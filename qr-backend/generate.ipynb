{
 "cells": [
  {
   "cell_type": "code",
   "execution_count": 1,
   "metadata": {},
   "outputs": [],
   "source": [
    "from qr_backend.generate import qr_now\n",
    "\n",
    "qr_now('victoria.png','Victoria')\n",
    "qr_now('paddington.png','Paddington')"
   ]
  }
 ],
 "metadata": {
  "kernelspec": {
   "display_name": "Python 3.9.13",
   "language": "python",
   "name": "python3"
  },
  "language_info": {
   "codemirror_mode": {
    "name": "ipython",
    "version": 3
   },
   "file_extension": ".py",
   "mimetype": "text/x-python",
   "name": "python",
   "nbconvert_exporter": "python",
   "pygments_lexer": "ipython3",
   "version": "3.9.13"
  },
  "orig_nbformat": 4,
  "vscode": {
   "interpreter": {
    "hash": "7d9470041bd52282946349416b2e8b4c479f0dc45db9b588cb872a9db4ce0e43"
   }
  }
 },
 "nbformat": 4,
 "nbformat_minor": 2
}
